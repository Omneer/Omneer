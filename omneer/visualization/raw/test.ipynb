{
 "cells": [
  {
   "cell_type": "code",
   "execution_count": 6,
   "metadata": {},
   "outputs": [
    {
     "name": "stdout",
     "output_type": "stream",
     "text": [
      "Modified CSV file saved as Test2_modified.csv\n",
      "Number of unique values in PATNO column: 218\n"
     ]
    }
   ],
   "source": [
    "import csv\n",
    "\n",
    "def replace_values(filename):\n",
    "    new_filename = filename.replace('.csv', '_modified.csv')\n",
    "\n",
    "    with open(filename, 'r') as file:\n",
    "        reader = csv.DictReader(file)\n",
    "        data = list(reader)\n",
    "\n",
    "    unique_values = set()\n",
    "    filtered_data = []\n",
    "    fieldnames = ['PATNO', 'COHORT', 'TESTNAME', 'TESTVALUE']\n",
    "    \n",
    "    for row in data:\n",
    "        if row['COHORT'] == 'Control':\n",
    "            row['COHORT'] = '0'\n",
    "        elif row['COHORT'] == 'PD':\n",
    "            row['COHORT'] = '1'\n",
    "        \n",
    "        unique_values.add(row['PATNO'])\n",
    "        \n",
    "        if row['COHORT'] == '0' or row['COHORT'] == '1':\n",
    "            filtered_row = {field: row[field] for field in fieldnames}\n",
    "            filtered_data.append(filtered_row)\n",
    "\n",
    "    with open(new_filename, 'w', newline='') as file:\n",
    "        writer = csv.DictWriter(file, fieldnames=fieldnames)\n",
    "        writer.writeheader()\n",
    "        writer.writerows(filtered_data)\n",
    "\n",
    "    print(f\"Modified CSV file saved as {new_filename}\")\n",
    "    print(f\"Number of unique values in PATNO column: {len(unique_values)}\")\n",
    "\n",
    "# Replace 'Test.csv' with the actual path to your CSV file\n",
    "replace_values('Test2.csv')\n"
   ]
  },
  {
   "cell_type": "code",
   "execution_count": 8,
   "metadata": {},
   "outputs": [
    {
     "name": "stdout",
     "output_type": "stream",
     "text": [
      "Restructured CSV file saved as Test2_restructured.csv\n"
     ]
    }
   ],
   "source": [
    "import csv\n",
    "\n",
    "def restructure_data(filename):\n",
    "    new_filename = filename.replace('_modified.csv', '_restructured.csv')\n",
    "\n",
    "    with open(filename, 'r') as file:\n",
    "        reader = csv.DictReader(file)\n",
    "        data = list(reader)\n",
    "\n",
    "    patients = {}  # Dictionary to store patient data\n",
    "    testnames = set()  # Set to store unique testnames\n",
    "\n",
    "    # Iterate over each row to collect data\n",
    "    for row in data:\n",
    "        patno = row['PATNO']\n",
    "        cohort = row['COHORT']\n",
    "        testname = row['TESTNAME']\n",
    "        testvalue = row['TESTVALUE']\n",
    "\n",
    "        # Add testname to the set of unique testnames\n",
    "        testnames.add(testname)\n",
    "\n",
    "        # Check if the patient exists in the dictionary\n",
    "        if patno in patients:\n",
    "            # Add testvalue for the existing patient and testname\n",
    "            patients[patno][testname] = testvalue\n",
    "        else:\n",
    "            # Create a new entry for the patient\n",
    "            patients[patno] = {\n",
    "                'PD': cohort,\n",
    "                testname: testvalue\n",
    "            }\n",
    "\n",
    "    # Create a sorted list of unique testnames\n",
    "    sorted_testnames = sorted(testnames)\n",
    "\n",
    "    # Write the restructured data to the new CSV file\n",
    "    with open(new_filename, 'w', newline='') as file:\n",
    "        fieldnames = ['PD'] + sorted_testnames\n",
    "        writer = csv.DictWriter(file, fieldnames=fieldnames)\n",
    "        writer.writeheader()\n",
    "        writer.writerows(patients.values())\n",
    "\n",
    "    print(f\"Restructured CSV file saved as {new_filename}\")\n",
    "\n",
    "# Replace 'Test_modified.csv' with the actual path to your modified CSV file\n",
    "restructure_data('Test2_modified.csv')\n"
   ]
  }
 ],
 "metadata": {
  "kernelspec": {
   "display_name": "d2",
   "language": "python",
   "name": "python3"
  },
  "language_info": {
   "codemirror_mode": {
    "name": "ipython",
    "version": 3
   },
   "file_extension": ".py",
   "mimetype": "text/x-python",
   "name": "python",
   "nbconvert_exporter": "python",
   "pygments_lexer": "ipython3",
   "version": "3.10.11"
  },
  "orig_nbformat": 4
 },
 "nbformat": 4,
 "nbformat_minor": 2
}
